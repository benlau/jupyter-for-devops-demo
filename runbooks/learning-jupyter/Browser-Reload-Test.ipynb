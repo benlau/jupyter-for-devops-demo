{
 "cells": [
  {
   "cell_type": "code",
   "execution_count": null,
   "id": "461011ed-51fb-495f-940d-ca5570c9c93e",
   "metadata": {
    "tags": []
   },
   "outputs": [],
   "source": [
    "%%bash\n",
    "# Run this script and try to refresh the browser\n",
    "# Can it resume the running session?\n",
    "for i in {1..200}\n",
    "do\n",
    "  echo $i\n",
    "  sleep 0.1\n",
    "done"
   ]
  },
  {
   "cell_type": "code",
   "execution_count": null,
   "id": "3fe8106a-7fe2-4c61-b5b6-b8504bf671c8",
   "metadata": {},
   "outputs": [],
   "source": [
    "#1. Run and refresh browser\n",
    "#2. Run, save and then refresh browser\n",
    "import ipywidgets as widgets\n",
    "from IPython.display import display\n",
    "button = widgets.Button(description=\"Hello\")\n",
    "output = widgets.Output()\n",
    "def on_button_click(b):\n",
    "    with output:\n",
    "        print(\"Hello\")\n",
    "button.on_click(on_button_click)\n",
    "display(button, output)"
   ]
  },
  {
   "cell_type": "code",
   "execution_count": null,
   "id": "5113835a-6e69-4f7e-8fcf-f2e0c51da49a",
   "metadata": {
    "tags": []
   },
   "outputs": [],
   "source": [
    "import ipylivebash"
   ]
  },
  {
   "cell_type": "code",
   "execution_count": null,
   "id": "f37b3920-794f-4a26-ac0b-bf455ab6843c",
   "metadata": {},
   "outputs": [],
   "source": [
    "%%livebash --height 10\n",
    "#1. Run and refresh browser\n",
    "#2. Run, save and then refresh browser\n",
    "\n",
    "for i in {1..200}\n",
    "do\n",
    "  echo $i\n",
    "  sleep 0.1\n",
    "done"
   ]
  }
 ],
 "metadata": {
  "kernelspec": {
   "display_name": "Python 3 (ipykernel)",
   "language": "python",
   "name": "python3"
  },
  "language_info": {
   "codemirror_mode": {
    "name": "ipython",
    "version": 3
   },
   "file_extension": ".py",
   "mimetype": "text/x-python",
   "name": "python",
   "nbconvert_exporter": "python",
   "pygments_lexer": "ipython3",
   "version": "3.11.4"
  }
 },
 "nbformat": 4,
 "nbformat_minor": 5
}
