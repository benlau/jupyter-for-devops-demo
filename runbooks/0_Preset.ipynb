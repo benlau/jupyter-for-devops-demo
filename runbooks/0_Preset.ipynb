{
 "cells": [
  {
   "cell_type": "markdown",
   "id": "966c0b89-5ac5-431b-89da-d49a7e77f031",
   "metadata": {},
   "source": [
    "[HOME](./__README__.ipynb) | [Login](./Login.ipynb) | [Database](./Database.ipynb) | [Cleanup Runbook](./Cleanup.ipynb)\n",
    "\n",
    "# Preset Runbook"
   ]
  },
  {
   "cell_type": "code",
   "execution_count": 2,
   "id": "1088ebb7-3f0c-4c33-8c0b-04bbd588ca8b",
   "metadata": {
    "autorun": true,
    "tags": []
   },
   "outputs": [
    {
     "name": "stdout",
     "output_type": "stream",
     "text": [
      "Completed\n"
     ]
    }
   ],
   "source": [
    "# Import required library and create log folder \n",
    "import ipylivebash\n",
    "import ipywidgets as widgets\n",
    "from IPython.display import display\n",
    "import shutil\n",
    "!mkdir -p logs\n",
    "!echo Completed"
   ]
  },
  {
   "cell_type": "markdown",
   "id": "4b4ffabe-61d1-434c-8be5-69cddfcb52e5",
   "metadata": {},
   "source": [
    "# Choose Environment\n",
    "\n",
    "Pick from \"dev\", \"uat\" and \"prod\".\n",
    "\n",
    "*Remarks:* It just simulate a real project but it is meaningless for a local network"
   ]
  },
  {
   "cell_type": "code",
   "execution_count": null,
   "id": "8e34e15c-9fb7-4b59-9988-d82c4e19720b",
   "metadata": {},
   "outputs": [],
   "source": [
    "def run():\n",
    "    print(\"choose an environment\")\n",
    "    def confirm(environment):\n",
    "        shutil.copy(f\"../django-cms-quickstart/secrets/config.env-{environment}\",  \"../django-cms-quickstart/config.env\")\n",
    "        with output_widget:\n",
    "            print(f\"Confirmed environment: {environment}. File 'config.env' updated.\")\n",
    "\n",
    "    environment_select = widgets.Select(\n",
    "        options=[\"dev\", \"uat\", \"prod\"],\n",
    "        disabled=False\n",
    "    )\n",
    "    confirm_button = widgets.Button(description=\"Confirm\")\n",
    "    output_widget = widgets.Output(layout={'width': '95%'})\n",
    "\n",
    "    def on_confirm_button_clicked(b):\n",
    "        confirm(environment_select.value)\n",
    "\n",
    "    confirm_button.on_click(on_confirm_button_clicked)\n",
    "    display(widgets.VBox([environment_select, confirm_button, output_widget]))\n",
    "run()"
   ]
  },
  {
   "cell_type": "markdown",
   "id": "5c06153f-aeec-439a-a832-0def6b57dfd4",
   "metadata": {},
   "source": [
    "# Setup"
   ]
  },
  {
   "cell_type": "code",
   "execution_count": null,
   "id": "2ca16856-4038-46ec-a76c-811b75e23ebe",
   "metadata": {
    "tags": []
   },
   "outputs": [],
   "source": [
    "%%livebash --save logs/setup.log --notify --save-timestamp\n",
    "\n",
    "cd ../django-cms-quickstart\n",
    "docker compose up -d database_default\n",
    "docker compose run --rm web python manage.py migrate\n"
   ]
  },
  {
   "cell_type": "markdown",
   "id": "5c16444a-0bb7-4372-88b7-2df5ee8950d7",
   "metadata": {},
   "source": [
    "# Create Superuser"
   ]
  },
  {
   "cell_type": "code",
   "execution_count": null,
   "id": "5f05cc2c-38cb-4196-8e1c-89f88bd3e50d",
   "metadata": {
    "tags": []
   },
   "outputs": [],
   "source": [
    "import ipywidgets as widgets\n",
    "from IPython.display import display\n",
    "\n",
    "def run():\n",
    "    print(\"Enter password\")\n",
    "    def confirm(password):\n",
    "        with open('admin.pass', 'w') as file:\n",
    "            file.write(password)\n",
    "        output_widget.append_stdout(f\"Password saved to admin.pass\\n\")\n",
    "\n",
    "    password_input = widgets.Password(layout={'width': '50%'})\n",
    "\n",
    "    confirm_button = widgets.Button(description='Confirm')\n",
    "    confirm_button.on_click(lambda _: confirm(password_input.value))\n",
    "    output_widget = widgets.Output(layout={'width': '95%', 'border': '1px solid black'})\n",
    "\n",
    "    widgets_box = widgets.VBox([password_input, confirm_button, output_widget])\n",
    "    display(widgets_box)\n",
    "run()"
   ]
  },
  {
   "cell_type": "code",
   "execution_count": null,
   "id": "90087d05-b0f1-4ebf-b840-82769d1f264f",
   "metadata": {
    "tags": []
   },
   "outputs": [],
   "source": [
    "%%livebash --ask-confirm\n",
    "# Create superuser\n",
    "\n",
    "ADMIN_PASSWD=`cat admin.pass`\n",
    "\n",
    "CMD=$(cat << EOF\n",
    "export DJANGO_SUPERUSER_PASSWORD=\"${ADMIN_PASSWD}\"\n",
    "python manage.py createsuperuser --noinput --username admin --email tester@example.com\n",
    "EOF\n",
    ")\n",
    "\n",
    "cd ../django-cms-quickstart\n",
    "docker compose up -d database_default\n",
    "docker compose run web bash -c \"$CMD\"\n"
   ]
  },
  {
   "cell_type": "markdown",
   "id": "a43f3e77-4429-4197-a29c-29a573e5ac10",
   "metadata": {},
   "source": [
    "# Startup"
   ]
  },
  {
   "cell_type": "code",
   "execution_count": null,
   "id": "c1c2beb1-d901-458f-8e92-d9a899b0afc1",
   "metadata": {
    "tags": []
   },
   "outputs": [],
   "source": [
    "%%livebash --height 5\n",
    "\n",
    "cd ../django-cms-quickstart\n",
    "docker-compose up -d"
   ]
  },
  {
   "cell_type": "code",
   "execution_count": null,
   "id": "47ca4347-d81b-4d80-8ecb-0d2dbbc8b729",
   "metadata": {},
   "outputs": [],
   "source": [
    "%%livebash --height 8\n",
    "# Check running services\n",
    "\n",
    "cd ../django-cms-quickstart\n",
    "docker-compose ps"
   ]
  },
  {
   "cell_type": "markdown",
   "id": "9475c435-c005-4a23-9f5b-c4373a43e8c2",
   "metadata": {},
   "source": [
    "* * *\n",
    "\n",
    "Now it is ready, open this [link](http://localhost:8080/admin) to visit the running service\n",
    "\n",
    "[Back to top](#Preset-Runbook)"
   ]
  },
  {
   "cell_type": "code",
   "execution_count": null,
   "id": "a754f4b2-e17a-4adf-9f0e-d75b608111a9",
   "metadata": {},
   "outputs": [],
   "source": []
  }
 ],
 "metadata": {
  "kernelspec": {
   "display_name": "Python 3 (ipykernel)",
   "language": "python",
   "name": "python3"
  },
  "language_info": {
   "codemirror_mode": {
    "name": "ipython",
    "version": 3
   },
   "file_extension": ".py",
   "mimetype": "text/x-python",
   "name": "python",
   "nbconvert_exporter": "python",
   "pygments_lexer": "ipython3",
   "version": "3.11.4"
  }
 },
 "nbformat": 4,
 "nbformat_minor": 5
}
