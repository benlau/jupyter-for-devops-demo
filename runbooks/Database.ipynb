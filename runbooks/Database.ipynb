{
 "cells": [
  {
   "cell_type": "markdown",
   "id": "7dad7d84-5ea6-40eb-bcae-07bd27751d9c",
   "metadata": {},
   "source": [
    "[HOME](./__README__.ipynb) | [Login](./Login.ipynb) | [Database](./Database.ipynb) | [Cleanup Runbook](./Cleanup.ipynb)\n",
    "\n",
    "# Database Runbook\n"
   ]
  },
  {
   "cell_type": "code",
   "execution_count": 3,
   "id": "c36b7726-c896-4e4f-9507-56279c9e8bbb",
   "metadata": {
    "autorun": true,
    "tags": []
   },
   "outputs": [],
   "source": [
    "import ipylivebash"
   ]
  },
  {
   "cell_type": "markdown",
   "id": "5fa381da-f2d0-4eec-ad3b-3a437b832fc5",
   "metadata": {},
   "source": [
    "## List table"
   ]
  },
  {
   "cell_type": "code",
   "execution_count": null,
   "id": "cd0e9864-e5fc-450f-a801-84c4eb69c929",
   "metadata": {
    "tags": []
   },
   "outputs": [],
   "source": [
    "%%livebash\n",
    "\n",
    "cd ../django-cms-quickstart\n",
    "source config.env\n",
    "\n",
    "CMD=$(cat << EOF\n",
    "psql $DATABASE_URL -c \"\\dt\"\n",
    "EOF\n",
    ")\n",
    "\n",
    "docker compose run database_default bash -c \"$CMD\""
   ]
  },
  {
   "cell_type": "markdown",
   "id": "f0908e9f-b181-4c55-b841-1a31f5fca77d",
   "metadata": {},
   "source": [
    "## Run any SQL"
   ]
  },
  {
   "cell_type": "markdown",
   "id": "76ff2d2f-bb17-42d6-bf28-043d891135e2",
   "metadata": {
    "tags": []
   },
   "source": [
    "### Method 1\n"
   ]
  },
  {
   "cell_type": "code",
   "execution_count": null,
   "id": "fb9a61aa-272c-4242-be6c-aa200de177cb",
   "metadata": {
    "tags": []
   },
   "outputs": [],
   "source": [
    "import ipywidgets as widgets\n",
    "from IPython.display import display\n",
    "import os\n",
    "\n",
    "def run():\n",
    "    #Create UI in a function to prevent namespace pollution between cells\n",
    "    print(\"Enter a SQL Statement to run in next cell:\")\n",
    "    default_sql = os.getenv(\"SQL\", \"\\dt\")\n",
    "    l = widgets.Layout(flex='0 1 auto', height='80px', min_height='80px', width='auto')\n",
    "    textarea = widgets.Textarea(value=default_sql,placeholder='Type something',disabled=False, layout=l)\n",
    "\n",
    "    def on_change(change):\n",
    "        if change['name'] == 'value':\n",
    "            value = change['new']\n",
    "            os.environ[\"SQL\"] = value\n",
    "\n",
    "    textarea.observe(on_change)\n",
    "    display(textarea)\n",
    "\n",
    "run()"
   ]
  },
  {
   "cell_type": "code",
   "execution_count": null,
   "id": "9f323cbb-341f-4927-82ba-e5b5b4214aef",
   "metadata": {
    "tags": []
   },
   "outputs": [],
   "source": [
    "%%livebash\n",
    "\n",
    "cd ../django-cms-quickstart\n",
    "source config.env\n",
    "\n",
    "CMD=$(cat << EOF\n",
    "psql $DATABASE_URL -c \"$SQL\"\n",
    "EOF\n",
    ")\n",
    "\n",
    "docker compose run database_default bash -c \"$CMD\""
   ]
  },
  {
   "cell_type": "markdown",
   "id": "998c6829-fe01-4f93-ae28-572fd3e6f909",
   "metadata": {},
   "source": [
    "### Method 2"
   ]
  },
  {
   "cell_type": "code",
   "execution_count": null,
   "id": "983d3bfd-1b7b-4688-8320-1bd02b1bdd94",
   "metadata": {
    "tags": []
   },
   "outputs": [],
   "source": [
    "import ipywidgets as widgets\n",
    "from IPython.display import display\n",
    "from ipylivebash import run_script\n",
    "import asyncio\n",
    "import os\n",
    "import subprocess\n",
    "\n",
    "def run():\n",
    "    print(\"Run a SQL Statement from UI directly\")\n",
    "    l = widgets.Layout(flex='0 1 auto', height='80px', min_height='80px', width='auto')\n",
    "    sql_textarea = widgets.Textarea(value='\\dt',placeholder='Type something',disabled=False, layout=l)\n",
    "    display(sql_textarea)\n",
    "\n",
    "    def confirm_sql(_):\n",
    "        with output_result_widget:\n",
    "            output_result_widget.clear_output()\n",
    "            SQL = sql_textarea.value\n",
    "            script=f\"\"\"\\\n",
    "cd ../django-cms-quickstart\n",
    "source config.env\n",
    "\n",
    "CMD=$(cat << EOF\n",
    "psql $DATABASE_URL -c \"{SQL}\"\n",
    "EOF\n",
    ")   \n",
    "docker compose run database_default bash -c \"$CMD\"\n",
    "    \"\"\"\n",
    "            task = run_script(script, output=output_result_widget)\n",
    "            asyncio.get_event_loop().create_task(task)\n",
    "\n",
    "    confirm_sql_button = widgets.Button(description='Confirm')\n",
    "    confirm_sql_button.on_click(confirm_sql)\n",
    "    display(confirm_sql_button)\n",
    "\n",
    "    output_result_widget = widgets.Output(layout={'width': '95%', 'border': '1px solid black'})\n",
    "    display(output_result_widget)\n",
    "\n",
    "run()"
   ]
  },
  {
   "cell_type": "markdown",
   "id": "db917008-d89c-4bda-8dc0-af303f5f8f46",
   "metadata": {},
   "source": [
    "# Backup and Restore\n",
    "\n",
    "TODO\n"
   ]
  },
  {
   "cell_type": "code",
   "execution_count": null,
   "id": "f3c87dae-e1f5-44a9-b77e-a42707d555e2",
   "metadata": {},
   "outputs": [],
   "source": []
  }
 ],
 "metadata": {
  "kernelspec": {
   "display_name": "Python 3 (ipykernel)",
   "language": "python",
   "name": "python3"
  },
  "language_info": {
   "codemirror_mode": {
    "name": "ipython",
    "version": 3
   },
   "file_extension": ".py",
   "mimetype": "text/x-python",
   "name": "python",
   "nbconvert_exporter": "python",
   "pygments_lexer": "ipython3",
   "version": "3.11.4"
  }
 },
 "nbformat": 4,
 "nbformat_minor": 5
}
