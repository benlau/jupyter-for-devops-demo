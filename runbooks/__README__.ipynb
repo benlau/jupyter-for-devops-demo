{
 "cells": [
  {
   "cell_type": "markdown",
   "id": "722cd74e-2c66-4a77-8add-d8e1b67a33f4",
   "metadata": {},
   "source": [
    "# Local Django CMS Runbook\n",
    "\n",
    "Project Site: <a href=\"https://github.com/benlau/jupyter-for-devops-demo/\"><i class=\"fa fa-brands fa-github\"></i></a>\n",
    "\n",
    "\n",
    "It is a runbook to manipulate a local Django CMS site. You should first run the [Preset](./0_Preset.ipynb) runbook to configure the environment and start the service.\n",
    "\n",
    "If you are running in a k8s cluster, you may have a ~~Login~~ runbook to login to the k8s cluster but it is not available in this demo project.\n",
    "\n",
    "# Operations\n",
    "\n",
    "- User account Adminstration\n",
    "- Database Adminstration\n",
    "- Backup"
   ]
  },
  {
   "cell_type": "code",
   "execution_count": null,
   "id": "5d39234f-366b-40fb-b8ae-6919e38c38b1",
   "metadata": {},
   "outputs": [],
   "source": []
  }
 ],
 "metadata": {
  "kernelspec": {
   "display_name": "Python 3 (ipykernel)",
   "language": "python",
   "name": "python3"
  },
  "language_info": {
   "codemirror_mode": {
    "name": "ipython",
    "version": 3
   },
   "file_extension": ".py",
   "mimetype": "text/x-python",
   "name": "python",
   "nbconvert_exporter": "python",
   "pygments_lexer": "ipython3",
   "version": "3.11.4"
  }
 },
 "nbformat": 4,
 "nbformat_minor": 5
}
