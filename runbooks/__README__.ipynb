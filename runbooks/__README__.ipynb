{
 "cells": [
  {
   "cell_type": "markdown",
   "id": "722cd74e-2c66-4a77-8add-d8e1b67a33f4",
   "metadata": {},
   "source": [
    "# Local Django CMS Runbook\n",
    "\n",
    "Project Site: <a href=\"https://github.com/benlau/jupyter-for-devops-demo/\"><i class=\"fa fa-brands fa-github\"></i></a>\n",
    "\n",
    "\n",
    "It is a set of runbooks to manipulate a local Django CMS site. You should first run the [Preset](./0_Preset.ipynb) runbook to configure the environment and start the service. And then [Login](./Login.ipynb) to the system.\n",
    "\n",
    "```mermaid\n",
    "graph LR\n",
    "subgraph Demo\n",
    "    subgraph DockerCompose\n",
    "        DjangoCMS\n",
    "        PGSql\n",
    "    end\n",
    "    JupyterRunbook\n",
    "end\n",
    "DjangoCMS --> PGSql\n",
    "JupyterRunbook --> DjangoCMS\n",
    "JupyterRunbook --> PGSql\n",
    "```\n",
    "\n",
    "\n",
    "## Runbooks\n",
    "\n",
    "- [Login Runbook](./Login.ipynb)\n",
    "- [Database Runbook](./Database.ipynb)\n",
    "\n",
    "## Other Usages\n",
    "- System Diagnostics\n",
    "- Deployment\n",
    "- System Migration\n",
    "- Upgrade SSL Certification \n",
    "- System Monitoring\n",
    "- [Cleanup Runbook (Demo only)](./Cleanup.ipynb)\n"
   ]
  },
  {
   "cell_type": "code",
   "execution_count": null,
   "id": "5d39234f-366b-40fb-b8ae-6919e38c38b1",
   "metadata": {},
   "outputs": [],
   "source": []
  }
 ],
 "metadata": {
  "kernelspec": {
   "display_name": "Python 3 (ipykernel)",
   "language": "python",
   "name": "python3"
  },
  "language_info": {
   "codemirror_mode": {
    "name": "ipython",
    "version": 3
   },
   "file_extension": ".py",
   "mimetype": "text/x-python",
   "name": "python",
   "nbconvert_exporter": "python",
   "pygments_lexer": "ipython3",
   "version": "3.11.4"
  }
 },
 "nbformat": 4,
 "nbformat_minor": 5
}
