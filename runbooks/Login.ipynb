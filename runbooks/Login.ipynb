{
 "cells": [
  {
   "cell_type": "markdown",
   "id": "cabbe237-4c6a-4cba-bad4-c057073de70d",
   "metadata": {},
   "source": [
    "[HOME](./__README__.ipynb) | [Login](./Login.ipynb) | [Database](./Database.ipynb) | [Cleanup Runbook](./Cleanup.ipynb)\n",
    "\n",
    "# Login Runbook\n"
   ]
  },
  {
   "cell_type": "code",
   "execution_count": 5,
   "id": "ff94d593-b9ae-4c17-8515-1f2f163972a7",
   "metadata": {
    "autorun": true,
    "tags": []
   },
   "outputs": [],
   "source": [
    "import requests"
   ]
  },
  {
   "cell_type": "code",
   "execution_count": null,
   "id": "ec475520-f037-4c46-a2aa-ba8422633a11",
   "metadata": {
    "tags": []
   },
   "outputs": [],
   "source": [
    "import json\n",
    "LOGIN_URL='http://localhost:8080/admin/login/?next=/?edit'\n",
    "# You should read from `config.env` in a real runbook\n",
    "\n",
    "with open('admin.pass', 'r') as file:\n",
    "    password = file.read().strip()\n",
    "\n",
    "session = requests.Session()\n",
    "session.get(LOGIN_URL)\n",
    "csrf_token = session.cookies['csrftoken']\n",
    "\n",
    "login_data = {\n",
    "    'csrfmiddlewaretoken': csrf_token,\n",
    "    'username': 'admin',\n",
    "    'password': password\n",
    "}\n",
    "\n",
    "response = session.post(LOGIN_URL, data=login_data)\n",
    "\n",
    "if response.status_code == 200:\n",
    "    print(\"Login successful!\")\n",
    "    session_id = session.cookies.get('sessionid')\n",
    "    print(f\"Session ID: {session_id}\")\n",
    "else:\n",
    "    print(\"Login failed. Please check your credentials.\")\n",
    "    print(response.text)\n"
   ]
  },
  {
   "cell_type": "code",
   "execution_count": null,
   "id": "6018cc46-775d-4d8d-a0f9-25cbbec28656",
   "metadata": {
    "tags": []
   },
   "outputs": [],
   "source": [
    "# List user or any action that could made via HTTP call\n",
    "headers = {'content-type': 'application/json'}\n",
    "response = session.get(\"http://localhost:8080/api/user\", headers=headers)\n",
    "data = json.loads(response.text)\n",
    "\n",
    "pretty_json_string = json.dumps(data, indent=4)\n",
    "\n",
    "print(pretty_json_string)"
   ]
  },
  {
   "cell_type": "code",
   "execution_count": null,
   "id": "56f326e1-d7cc-4a05-98f4-a58385d8c0f4",
   "metadata": {},
   "outputs": [],
   "source": []
  }
 ],
 "metadata": {
  "kernelspec": {
   "display_name": "Python 3 (ipykernel)",
   "language": "python",
   "name": "python3"
  },
  "language_info": {
   "codemirror_mode": {
    "name": "ipython",
    "version": 3
   },
   "file_extension": ".py",
   "mimetype": "text/x-python",
   "name": "python",
   "nbconvert_exporter": "python",
   "pygments_lexer": "ipython3",
   "version": "3.11.4"
  }
 },
 "nbformat": 4,
 "nbformat_minor": 5
}
