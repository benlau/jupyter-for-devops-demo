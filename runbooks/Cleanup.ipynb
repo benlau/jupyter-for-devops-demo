{
 "cells": [
  {
   "cell_type": "markdown",
   "id": "3e9e9ed0-1dce-47f0-a7ad-c638cee9c982",
   "metadata": {},
   "source": [
    "[HOME](./__README__.ipynb)\n",
    "\n",
    "# Cleanup\n"
   ]
  },
  {
   "cell_type": "code",
   "execution_count": 2,
   "id": "ce22e6a8-8d36-46c6-a27c-0a8582635997",
   "metadata": {
    "tags": []
   },
   "outputs": [],
   "source": [
    "import ipylivebash"
   ]
  },
  {
   "cell_type": "code",
   "execution_count": 7,
   "id": "e8946346-0296-44b3-b538-e578c9bf7449",
   "metadata": {
    "tags": []
   },
   "outputs": [
    {
     "data": {
      "application/vnd.jupyter.widget-view+json": {
       "model_id": "a545d6742c90436b950a067cc947fb4a",
       "version_major": 2,
       "version_minor": 0
      },
      "text/plain": []
     },
     "metadata": {},
     "output_type": "display_data"
    }
   ],
   "source": [
    "%%livebash --ask-confirm\n",
    "\n",
    "cd ../django-cms-quickstart\n",
    "docker-compose down\n",
    "docker volume rm django-cms-quickstart_db_data"
   ]
  },
  {
   "cell_type": "code",
   "execution_count": null,
   "id": "04d07b33-be0b-4c7e-b5e0-ac27405dbe92",
   "metadata": {},
   "outputs": [],
   "source": []
  }
 ],
 "metadata": {
  "kernelspec": {
   "display_name": "Python 3 (ipykernel)",
   "language": "python",
   "name": "python3"
  },
  "language_info": {
   "codemirror_mode": {
    "name": "ipython",
    "version": 3
   },
   "file_extension": ".py",
   "mimetype": "text/x-python",
   "name": "python",
   "nbconvert_exporter": "python",
   "pygments_lexer": "ipython3",
   "version": "3.11.4"
  }
 },
 "nbformat": 4,
 "nbformat_minor": 5
}
