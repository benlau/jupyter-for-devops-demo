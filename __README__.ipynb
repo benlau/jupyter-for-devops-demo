{
 "cells": [
  {
   "cell_type": "markdown",
   "id": "b9a8ae09-ce3d-4312-9a7b-89ea8eb72d59",
   "metadata": {},
   "source": [
    "# Jupyter for DevOps Demonstration\n",
    "\n",
    "In this notebook, it will demonstrate how to use Jupyter as a runbook to manipulate a Drupal website. "
   ]
  },
  {
   "cell_type": "markdown",
   "id": "a4d5f49a-4f64-4079-898e-7ed2b3d6eed5",
   "metadata": {
    "tags": []
   },
   "source": [
    "## Prerequisite\n",
    "\n",
    "Install extra packages in your virtual environment"
   ]
  },
  {
   "cell_type": "code",
   "execution_count": 1,
   "id": "007b8342-5e74-4f35-8026-2b4a48a85ba9",
   "metadata": {
    "scrolled": true,
    "tags": []
   },
   "outputs": [
    {
     "name": "stdout",
     "output_type": "stream",
     "text": [
      "Requirement already satisfied: ipylivebash==0.2.0 in /Users/benlau/Development/miniconda3/envs/jupyter-devops/lib/python3.11/site-packages (0.2.0)\n",
      "Requirement already satisfied: ipywidgets>=7.0.0 in /Users/benlau/Development/miniconda3/envs/jupyter-devops/lib/python3.11/site-packages (from ipylivebash==0.2.0) (8.0.7)\n",
      "Requirement already satisfied: tabulate>=0.9.0 in /Users/benlau/Development/miniconda3/envs/jupyter-devops/lib/python3.11/site-packages (from ipylivebash==0.2.0) (0.9.0)\n",
      "Requirement already satisfied: ipykernel>=4.5.1 in /Users/benlau/Development/miniconda3/envs/jupyter-devops/lib/python3.11/site-packages (from ipywidgets>=7.0.0->ipylivebash==0.2.0) (6.19.2)\n",
      "Requirement already satisfied: ipython>=6.1.0 in /Users/benlau/Development/miniconda3/envs/jupyter-devops/lib/python3.11/site-packages (from ipywidgets>=7.0.0->ipylivebash==0.2.0) (8.12.0)\n",
      "Requirement already satisfied: traitlets>=4.3.1 in /Users/benlau/Development/miniconda3/envs/jupyter-devops/lib/python3.11/site-packages (from ipywidgets>=7.0.0->ipylivebash==0.2.0) (5.7.1)\n",
      "Requirement already satisfied: widgetsnbextension~=4.0.7 in /Users/benlau/Development/miniconda3/envs/jupyter-devops/lib/python3.11/site-packages (from ipywidgets>=7.0.0->ipylivebash==0.2.0) (4.0.8)\n",
      "Requirement already satisfied: jupyterlab-widgets~=3.0.7 in /Users/benlau/Development/miniconda3/envs/jupyter-devops/lib/python3.11/site-packages (from ipywidgets>=7.0.0->ipylivebash==0.2.0) (3.0.8)\n",
      "Requirement already satisfied: appnope in /Users/benlau/Development/miniconda3/envs/jupyter-devops/lib/python3.11/site-packages (from ipykernel>=4.5.1->ipywidgets>=7.0.0->ipylivebash==0.2.0) (0.1.2)\n",
      "Requirement already satisfied: comm>=0.1.1 in /Users/benlau/Development/miniconda3/envs/jupyter-devops/lib/python3.11/site-packages (from ipykernel>=4.5.1->ipywidgets>=7.0.0->ipylivebash==0.2.0) (0.1.2)\n",
      "Requirement already satisfied: debugpy>=1.0 in /Users/benlau/Development/miniconda3/envs/jupyter-devops/lib/python3.11/site-packages (from ipykernel>=4.5.1->ipywidgets>=7.0.0->ipylivebash==0.2.0) (1.5.1)\n",
      "Requirement already satisfied: jupyter-client>=6.1.12 in /Users/benlau/Development/miniconda3/envs/jupyter-devops/lib/python3.11/site-packages (from ipykernel>=4.5.1->ipywidgets>=7.0.0->ipylivebash==0.2.0) (8.1.0)\n",
      "Requirement already satisfied: matplotlib-inline>=0.1 in /Users/benlau/Development/miniconda3/envs/jupyter-devops/lib/python3.11/site-packages (from ipykernel>=4.5.1->ipywidgets>=7.0.0->ipylivebash==0.2.0) (0.1.6)\n",
      "Requirement already satisfied: nest-asyncio in /Users/benlau/Development/miniconda3/envs/jupyter-devops/lib/python3.11/site-packages (from ipykernel>=4.5.1->ipywidgets>=7.0.0->ipylivebash==0.2.0) (1.5.6)\n",
      "Requirement already satisfied: packaging in /Users/benlau/Development/miniconda3/envs/jupyter-devops/lib/python3.11/site-packages (from ipykernel>=4.5.1->ipywidgets>=7.0.0->ipylivebash==0.2.0) (23.0)\n",
      "Requirement already satisfied: psutil in /Users/benlau/Development/miniconda3/envs/jupyter-devops/lib/python3.11/site-packages (from ipykernel>=4.5.1->ipywidgets>=7.0.0->ipylivebash==0.2.0) (5.9.0)\n",
      "Requirement already satisfied: pyzmq>=17 in /Users/benlau/Development/miniconda3/envs/jupyter-devops/lib/python3.11/site-packages (from ipykernel>=4.5.1->ipywidgets>=7.0.0->ipylivebash==0.2.0) (25.1.0)\n",
      "Requirement already satisfied: tornado>=6.1 in /Users/benlau/Development/miniconda3/envs/jupyter-devops/lib/python3.11/site-packages (from ipykernel>=4.5.1->ipywidgets>=7.0.0->ipylivebash==0.2.0) (6.2)\n",
      "Requirement already satisfied: backcall in /Users/benlau/Development/miniconda3/envs/jupyter-devops/lib/python3.11/site-packages (from ipython>=6.1.0->ipywidgets>=7.0.0->ipylivebash==0.2.0) (0.2.0)\n",
      "Requirement already satisfied: decorator in /Users/benlau/Development/miniconda3/envs/jupyter-devops/lib/python3.11/site-packages (from ipython>=6.1.0->ipywidgets>=7.0.0->ipylivebash==0.2.0) (5.1.1)\n",
      "Requirement already satisfied: jedi>=0.16 in /Users/benlau/Development/miniconda3/envs/jupyter-devops/lib/python3.11/site-packages (from ipython>=6.1.0->ipywidgets>=7.0.0->ipylivebash==0.2.0) (0.18.1)\n",
      "Requirement already satisfied: pickleshare in /Users/benlau/Development/miniconda3/envs/jupyter-devops/lib/python3.11/site-packages (from ipython>=6.1.0->ipywidgets>=7.0.0->ipylivebash==0.2.0) (0.7.5)\n",
      "Requirement already satisfied: prompt-toolkit!=3.0.37,<3.1.0,>=3.0.30 in /Users/benlau/Development/miniconda3/envs/jupyter-devops/lib/python3.11/site-packages (from ipython>=6.1.0->ipywidgets>=7.0.0->ipylivebash==0.2.0) (3.0.36)\n",
      "Requirement already satisfied: pygments>=2.4.0 in /Users/benlau/Development/miniconda3/envs/jupyter-devops/lib/python3.11/site-packages (from ipython>=6.1.0->ipywidgets>=7.0.0->ipylivebash==0.2.0) (2.15.1)\n",
      "Requirement already satisfied: stack-data in /Users/benlau/Development/miniconda3/envs/jupyter-devops/lib/python3.11/site-packages (from ipython>=6.1.0->ipywidgets>=7.0.0->ipylivebash==0.2.0) (0.2.0)\n",
      "Requirement already satisfied: pexpect>4.3 in /Users/benlau/Development/miniconda3/envs/jupyter-devops/lib/python3.11/site-packages (from ipython>=6.1.0->ipywidgets>=7.0.0->ipylivebash==0.2.0) (4.8.0)\n",
      "Requirement already satisfied: parso<0.9.0,>=0.8.0 in /Users/benlau/Development/miniconda3/envs/jupyter-devops/lib/python3.11/site-packages (from jedi>=0.16->ipython>=6.1.0->ipywidgets>=7.0.0->ipylivebash==0.2.0) (0.8.3)\n",
      "Requirement already satisfied: jupyter-core!=5.0.*,>=4.12 in /Users/benlau/Development/miniconda3/envs/jupyter-devops/lib/python3.11/site-packages (from jupyter-client>=6.1.12->ipykernel>=4.5.1->ipywidgets>=7.0.0->ipylivebash==0.2.0) (5.3.0)\n",
      "Requirement already satisfied: python-dateutil>=2.8.2 in /Users/benlau/Development/miniconda3/envs/jupyter-devops/lib/python3.11/site-packages (from jupyter-client>=6.1.12->ipykernel>=4.5.1->ipywidgets>=7.0.0->ipylivebash==0.2.0) (2.8.2)\n",
      "Requirement already satisfied: ptyprocess>=0.5 in /Users/benlau/Development/miniconda3/envs/jupyter-devops/lib/python3.11/site-packages (from pexpect>4.3->ipython>=6.1.0->ipywidgets>=7.0.0->ipylivebash==0.2.0) (0.7.0)\n",
      "Requirement already satisfied: wcwidth in /Users/benlau/Development/miniconda3/envs/jupyter-devops/lib/python3.11/site-packages (from prompt-toolkit!=3.0.37,<3.1.0,>=3.0.30->ipython>=6.1.0->ipywidgets>=7.0.0->ipylivebash==0.2.0) (0.2.5)\n",
      "Requirement already satisfied: executing in /Users/benlau/Development/miniconda3/envs/jupyter-devops/lib/python3.11/site-packages (from stack-data->ipython>=6.1.0->ipywidgets>=7.0.0->ipylivebash==0.2.0) (0.8.3)\n",
      "Requirement already satisfied: asttokens in /Users/benlau/Development/miniconda3/envs/jupyter-devops/lib/python3.11/site-packages (from stack-data->ipython>=6.1.0->ipywidgets>=7.0.0->ipylivebash==0.2.0) (2.0.5)\n",
      "Requirement already satisfied: pure-eval in /Users/benlau/Development/miniconda3/envs/jupyter-devops/lib/python3.11/site-packages (from stack-data->ipython>=6.1.0->ipywidgets>=7.0.0->ipylivebash==0.2.0) (0.2.2)\n",
      "Requirement already satisfied: platformdirs>=2.5 in /Users/benlau/Development/miniconda3/envs/jupyter-devops/lib/python3.11/site-packages (from jupyter-core!=5.0.*,>=4.12->jupyter-client>=6.1.12->ipykernel>=4.5.1->ipywidgets>=7.0.0->ipylivebash==0.2.0) (2.5.2)\n",
      "Requirement already satisfied: six>=1.5 in /Users/benlau/Development/miniconda3/envs/jupyter-devops/lib/python3.11/site-packages (from python-dateutil>=2.8.2->jupyter-client>=6.1.12->ipykernel>=4.5.1->ipywidgets>=7.0.0->ipylivebash==0.2.0) (1.16.0)\n",
      "Collecting jupyterlab_autorun_cells\n",
      "  Using cached jupyterlab_autorun_cells-1.0.0-py3-none-any.whl (68 kB)\n",
      "Collecting jupyter-server<2,>=1.6 (from jupyterlab_autorun_cells)\n",
      "  Using cached jupyter_server-1.24.0-py3-none-any.whl (347 kB)\n",
      "Requirement already satisfied: anyio<4,>=3.1.0 in /Users/benlau/Development/miniconda3/envs/jupyter-devops/lib/python3.11/site-packages (from jupyter-server<2,>=1.6->jupyterlab_autorun_cells) (3.5.0)\n",
      "Requirement already satisfied: argon2-cffi in /Users/benlau/Development/miniconda3/envs/jupyter-devops/lib/python3.11/site-packages (from jupyter-server<2,>=1.6->jupyterlab_autorun_cells) (21.3.0)\n",
      "Requirement already satisfied: jinja2 in /Users/benlau/Development/miniconda3/envs/jupyter-devops/lib/python3.11/site-packages (from jupyter-server<2,>=1.6->jupyterlab_autorun_cells) (3.1.2)\n",
      "Requirement already satisfied: jupyter-client>=6.1.12 in /Users/benlau/Development/miniconda3/envs/jupyter-devops/lib/python3.11/site-packages (from jupyter-server<2,>=1.6->jupyterlab_autorun_cells) (8.1.0)\n",
      "Requirement already satisfied: jupyter-core!=5.0.*,>=4.12 in /Users/benlau/Development/miniconda3/envs/jupyter-devops/lib/python3.11/site-packages (from jupyter-server<2,>=1.6->jupyterlab_autorun_cells) (5.3.0)\n",
      "Requirement already satisfied: nbconvert>=6.4.4 in /Users/benlau/Development/miniconda3/envs/jupyter-devops/lib/python3.11/site-packages (from jupyter-server<2,>=1.6->jupyterlab_autorun_cells) (6.5.4)\n",
      "Requirement already satisfied: nbformat>=5.2.0 in /Users/benlau/Development/miniconda3/envs/jupyter-devops/lib/python3.11/site-packages (from jupyter-server<2,>=1.6->jupyterlab_autorun_cells) (5.7.0)\n",
      "Requirement already satisfied: packaging in /Users/benlau/Development/miniconda3/envs/jupyter-devops/lib/python3.11/site-packages (from jupyter-server<2,>=1.6->jupyterlab_autorun_cells) (23.0)\n",
      "Requirement already satisfied: prometheus-client in /Users/benlau/Development/miniconda3/envs/jupyter-devops/lib/python3.11/site-packages (from jupyter-server<2,>=1.6->jupyterlab_autorun_cells) (0.14.1)\n",
      "Requirement already satisfied: pyzmq>=17 in /Users/benlau/Development/miniconda3/envs/jupyter-devops/lib/python3.11/site-packages (from jupyter-server<2,>=1.6->jupyterlab_autorun_cells) (25.1.0)\n",
      "Requirement already satisfied: Send2Trash in /Users/benlau/Development/miniconda3/envs/jupyter-devops/lib/python3.11/site-packages (from jupyter-server<2,>=1.6->jupyterlab_autorun_cells) (1.8.0)\n",
      "Requirement already satisfied: terminado>=0.8.3 in /Users/benlau/Development/miniconda3/envs/jupyter-devops/lib/python3.11/site-packages (from jupyter-server<2,>=1.6->jupyterlab_autorun_cells) (0.17.1)\n",
      "Requirement already satisfied: tornado>=6.1.0 in /Users/benlau/Development/miniconda3/envs/jupyter-devops/lib/python3.11/site-packages (from jupyter-server<2,>=1.6->jupyterlab_autorun_cells) (6.2)\n",
      "Requirement already satisfied: traitlets>=5.1 in /Users/benlau/Development/miniconda3/envs/jupyter-devops/lib/python3.11/site-packages (from jupyter-server<2,>=1.6->jupyterlab_autorun_cells) (5.7.1)\n",
      "Requirement already satisfied: websocket-client in /Users/benlau/Development/miniconda3/envs/jupyter-devops/lib/python3.11/site-packages (from jupyter-server<2,>=1.6->jupyterlab_autorun_cells) (0.58.0)\n",
      "Requirement already satisfied: idna>=2.8 in /Users/benlau/Development/miniconda3/envs/jupyter-devops/lib/python3.11/site-packages (from anyio<4,>=3.1.0->jupyter-server<2,>=1.6->jupyterlab_autorun_cells) (3.4)\n",
      "Requirement already satisfied: sniffio>=1.1 in /Users/benlau/Development/miniconda3/envs/jupyter-devops/lib/python3.11/site-packages (from anyio<4,>=3.1.0->jupyter-server<2,>=1.6->jupyterlab_autorun_cells) (1.2.0)\n",
      "Requirement already satisfied: python-dateutil>=2.8.2 in /Users/benlau/Development/miniconda3/envs/jupyter-devops/lib/python3.11/site-packages (from jupyter-client>=6.1.12->jupyter-server<2,>=1.6->jupyterlab_autorun_cells) (2.8.2)\n",
      "Requirement already satisfied: platformdirs>=2.5 in /Users/benlau/Development/miniconda3/envs/jupyter-devops/lib/python3.11/site-packages (from jupyter-core!=5.0.*,>=4.12->jupyter-server<2,>=1.6->jupyterlab_autorun_cells) (2.5.2)\n",
      "Requirement already satisfied: lxml in /Users/benlau/Development/miniconda3/envs/jupyter-devops/lib/python3.11/site-packages (from nbconvert>=6.4.4->jupyter-server<2,>=1.6->jupyterlab_autorun_cells) (4.9.2)\n",
      "Requirement already satisfied: beautifulsoup4 in /Users/benlau/Development/miniconda3/envs/jupyter-devops/lib/python3.11/site-packages (from nbconvert>=6.4.4->jupyter-server<2,>=1.6->jupyterlab_autorun_cells) (4.12.2)\n",
      "Requirement already satisfied: bleach in /Users/benlau/Development/miniconda3/envs/jupyter-devops/lib/python3.11/site-packages (from nbconvert>=6.4.4->jupyter-server<2,>=1.6->jupyterlab_autorun_cells) (4.1.0)\n",
      "Requirement already satisfied: defusedxml in /Users/benlau/Development/miniconda3/envs/jupyter-devops/lib/python3.11/site-packages (from nbconvert>=6.4.4->jupyter-server<2,>=1.6->jupyterlab_autorun_cells) (0.7.1)\n",
      "Requirement already satisfied: entrypoints>=0.2.2 in /Users/benlau/Development/miniconda3/envs/jupyter-devops/lib/python3.11/site-packages (from nbconvert>=6.4.4->jupyter-server<2,>=1.6->jupyterlab_autorun_cells) (0.4)\n",
      "Requirement already satisfied: jupyterlab-pygments in /Users/benlau/Development/miniconda3/envs/jupyter-devops/lib/python3.11/site-packages (from nbconvert>=6.4.4->jupyter-server<2,>=1.6->jupyterlab_autorun_cells) (0.1.2)\n",
      "Requirement already satisfied: MarkupSafe>=2.0 in /Users/benlau/Development/miniconda3/envs/jupyter-devops/lib/python3.11/site-packages (from nbconvert>=6.4.4->jupyter-server<2,>=1.6->jupyterlab_autorun_cells) (2.1.1)\n",
      "Requirement already satisfied: mistune<2,>=0.8.1 in /Users/benlau/Development/miniconda3/envs/jupyter-devops/lib/python3.11/site-packages (from nbconvert>=6.4.4->jupyter-server<2,>=1.6->jupyterlab_autorun_cells) (0.8.4)\n",
      "Requirement already satisfied: nbclient>=0.5.0 in /Users/benlau/Development/miniconda3/envs/jupyter-devops/lib/python3.11/site-packages (from nbconvert>=6.4.4->jupyter-server<2,>=1.6->jupyterlab_autorun_cells) (0.5.13)\n",
      "Requirement already satisfied: pandocfilters>=1.4.1 in /Users/benlau/Development/miniconda3/envs/jupyter-devops/lib/python3.11/site-packages (from nbconvert>=6.4.4->jupyter-server<2,>=1.6->jupyterlab_autorun_cells) (1.5.0)\n",
      "Requirement already satisfied: pygments>=2.4.1 in /Users/benlau/Development/miniconda3/envs/jupyter-devops/lib/python3.11/site-packages (from nbconvert>=6.4.4->jupyter-server<2,>=1.6->jupyterlab_autorun_cells) (2.15.1)\n",
      "Requirement already satisfied: tinycss2 in /Users/benlau/Development/miniconda3/envs/jupyter-devops/lib/python3.11/site-packages (from nbconvert>=6.4.4->jupyter-server<2,>=1.6->jupyterlab_autorun_cells) (1.2.1)\n",
      "Requirement already satisfied: fastjsonschema in /Users/benlau/Development/miniconda3/envs/jupyter-devops/lib/python3.11/site-packages (from nbformat>=5.2.0->jupyter-server<2,>=1.6->jupyterlab_autorun_cells) (2.16.2)\n",
      "Requirement already satisfied: jsonschema>=2.6 in /Users/benlau/Development/miniconda3/envs/jupyter-devops/lib/python3.11/site-packages (from nbformat>=5.2.0->jupyter-server<2,>=1.6->jupyterlab_autorun_cells) (4.17.3)\n",
      "Requirement already satisfied: ptyprocess in /Users/benlau/Development/miniconda3/envs/jupyter-devops/lib/python3.11/site-packages (from terminado>=0.8.3->jupyter-server<2,>=1.6->jupyterlab_autorun_cells) (0.7.0)\n",
      "Requirement already satisfied: argon2-cffi-bindings in /Users/benlau/Development/miniconda3/envs/jupyter-devops/lib/python3.11/site-packages (from argon2-cffi->jupyter-server<2,>=1.6->jupyterlab_autorun_cells) (21.2.0)\n",
      "Requirement already satisfied: six in /Users/benlau/Development/miniconda3/envs/jupyter-devops/lib/python3.11/site-packages (from websocket-client->jupyter-server<2,>=1.6->jupyterlab_autorun_cells) (1.16.0)\n",
      "Requirement already satisfied: attrs>=17.4.0 in /Users/benlau/Development/miniconda3/envs/jupyter-devops/lib/python3.11/site-packages (from jsonschema>=2.6->nbformat>=5.2.0->jupyter-server<2,>=1.6->jupyterlab_autorun_cells) (22.1.0)\n",
      "Requirement already satisfied: pyrsistent!=0.17.0,!=0.17.1,!=0.17.2,>=0.14.0 in /Users/benlau/Development/miniconda3/envs/jupyter-devops/lib/python3.11/site-packages (from jsonschema>=2.6->nbformat>=5.2.0->jupyter-server<2,>=1.6->jupyterlab_autorun_cells) (0.18.0)\n",
      "Requirement already satisfied: nest-asyncio in /Users/benlau/Development/miniconda3/envs/jupyter-devops/lib/python3.11/site-packages (from nbclient>=0.5.0->nbconvert>=6.4.4->jupyter-server<2,>=1.6->jupyterlab_autorun_cells) (1.5.6)\n",
      "Requirement already satisfied: cffi>=1.0.1 in /Users/benlau/Development/miniconda3/envs/jupyter-devops/lib/python3.11/site-packages (from argon2-cffi-bindings->argon2-cffi->jupyter-server<2,>=1.6->jupyterlab_autorun_cells) (1.15.1)\n",
      "Requirement already satisfied: soupsieve>1.2 in /Users/benlau/Development/miniconda3/envs/jupyter-devops/lib/python3.11/site-packages (from beautifulsoup4->nbconvert>=6.4.4->jupyter-server<2,>=1.6->jupyterlab_autorun_cells) (2.4)\n",
      "Requirement already satisfied: webencodings in /Users/benlau/Development/miniconda3/envs/jupyter-devops/lib/python3.11/site-packages (from bleach->nbconvert>=6.4.4->jupyter-server<2,>=1.6->jupyterlab_autorun_cells) (0.5.1)\n",
      "Requirement already satisfied: pycparser in /Users/benlau/Development/miniconda3/envs/jupyter-devops/lib/python3.11/site-packages (from cffi>=1.0.1->argon2-cffi-bindings->argon2-cffi->jupyter-server<2,>=1.6->jupyterlab_autorun_cells) (2.21)\n",
      "Installing collected packages: jupyter-server, jupyterlab_autorun_cells\n",
      "  Attempting uninstall: jupyter-server\n",
      "    Found existing installation: jupyter_server 2.5.0\n",
      "    Uninstalling jupyter_server-2.5.0:\n",
      "      Successfully uninstalled jupyter_server-2.5.0\n",
      "Successfully installed jupyter-server-1.24.0 jupyterlab_autorun_cells-1.0.0\n"
     ]
    }
   ],
   "source": [
    "# \"!' - Execute a single shell command\n",
    "\n",
    "!pip install ipylivebash==0.2.0 # Install a DevOps extension\n",
    "\n",
    "!pip install jupyterlab_autorun_cells #Jupyter Plugin"
   ]
  },
  {
   "cell_type": "markdown",
   "id": "306ed0bc-6967-412e-9f88-75b07875f2e8",
   "metadata": {},
   "source": [
    "# Restart\n",
    "\n",
    "It is recommanded to restart the Jupyter Lab to make the plugin loaded correctly."
   ]
  },
  {
   "cell_type": "markdown",
   "id": "5a37e7cc-d252-4755-b20b-ec0cf0af7635",
   "metadata": {},
   "source": [
    "# Ready\n",
    "\n",
    "It is ready. Let's ppen the [first page](./runbooks/__README__.ipynb) of the runbook to get started"
   ]
  },
  {
   "cell_type": "code",
   "execution_count": null,
   "id": "8d9db1e4-83e9-47c0-9460-2c430b8f6eba",
   "metadata": {},
   "outputs": [],
   "source": []
  }
 ],
 "metadata": {
  "kernelspec": {
   "display_name": "Python 3 (ipykernel)",
   "language": "python",
   "name": "python3"
  },
  "language_info": {
   "codemirror_mode": {
    "name": "ipython",
    "version": 3
   },
   "file_extension": ".py",
   "mimetype": "text/x-python",
   "name": "python",
   "nbconvert_exporter": "python",
   "pygments_lexer": "ipython3",
   "version": "3.11.4"
  }
 },
 "nbformat": 4,
 "nbformat_minor": 5
}
